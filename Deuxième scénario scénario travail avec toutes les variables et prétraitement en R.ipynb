{
 "cells": [
  {
   "cell_type": "code",
   "execution_count": 2,
   "metadata": {
    "collapsed": false
   },
   "outputs": [
    {
     "name": "stderr",
     "output_type": "stream",
     "text": [
      "C:\\Users\\User\\Anaconda3\\lib\\site-packages\\sklearn\\lda.py:4: DeprecationWarning: lda.LDA has been moved to discriminant_analysis.LinearDiscriminantAnalysis in 0.17 and will be removed in 0.19\n",
      "  \"in 0.17 and will be removed in 0.19\", DeprecationWarning)\n",
      "C:\\Users\\User\\Anaconda3\\lib\\site-packages\\sklearn\\qda.py:4: DeprecationWarning: qda.QDA has been moved to discriminant_analysis.QuadraticDiscriminantAnalysis in 0.17 and will be removed in 0.19.\n",
      "  \"in 0.17 and will be removed in 0.19.\", DeprecationWarning)\n"
     ]
    }
   ],
   "source": [
    "%matplotlib inline\n",
    "from pylab import *\n",
    "import pandas as pd\n",
    "from sklearn import manifold\n",
    "from sklearn import *\n",
    "\n",
    "import numpy as np \n",
    "from numpy import *"
   ]
  },
  {
   "cell_type": "markdown",
   "metadata": {
    "collapsed": true
   },
   "source": [
    " <b>Avec le prétraitement en R  des variables qualitatives et des valeurs manquantes : <b>\n"
   ]
  },
  {
   "cell_type": "code",
   "execution_count": 13,
   "metadata": {
    "collapsed": false
   },
   "outputs": [],
   "source": [
    "\n",
    "\n",
    "x_train= pd.read_csv(\"traincomplet.csv\",sep=\",\")\n",
    "y_train=pd.read_csv(\"sortie_train.csv\",sep=\",\")\n",
    "x_test=pd.read_csv(\"test.csv\",sep=\",\")"
   ]
  },
  {
   "cell_type": "code",
   "execution_count": 14,
   "metadata": {
    "collapsed": false
   },
   "outputs": [
    {
     "data": {
      "text/html": [
       "<div>\n",
       "<table border=\"1\" class=\"dataframe\">\n",
       "  <thead>\n",
       "    <tr style=\"text-align: right;\">\n",
       "      <th></th>\n",
       "      <th>C2</th>\n",
       "      <th>C3</th>\n",
       "      <th>C4</th>\n",
       "      <th>C5</th>\n",
       "      <th>C6</th>\n",
       "      <th>C7</th>\n",
       "      <th>C8</th>\n",
       "      <th>C9</th>\n",
       "      <th>C10</th>\n",
       "      <th>C11</th>\n",
       "      <th>...</th>\n",
       "      <th>Q63</th>\n",
       "      <th>Q64</th>\n",
       "      <th>Q65</th>\n",
       "      <th>Q66</th>\n",
       "      <th>Q67</th>\n",
       "      <th>Q68</th>\n",
       "      <th>Q69</th>\n",
       "      <th>Q70</th>\n",
       "      <th>Q71</th>\n",
       "      <th>Q72</th>\n",
       "    </tr>\n",
       "  </thead>\n",
       "  <tbody>\n",
       "    <tr>\n",
       "      <th>0</th>\n",
       "      <td>2</td>\n",
       "      <td>3</td>\n",
       "      <td>2</td>\n",
       "      <td>0</td>\n",
       "      <td>0</td>\n",
       "      <td>0</td>\n",
       "      <td>1</td>\n",
       "      <td>1</td>\n",
       "      <td>8</td>\n",
       "      <td>2286</td>\n",
       "      <td>...</td>\n",
       "      <td>0</td>\n",
       "      <td>0</td>\n",
       "      <td>0</td>\n",
       "      <td>1</td>\n",
       "      <td>0</td>\n",
       "      <td>1</td>\n",
       "      <td>0</td>\n",
       "      <td>1.0</td>\n",
       "      <td>0</td>\n",
       "      <td>0</td>\n",
       "    </tr>\n",
       "    <tr>\n",
       "      <th>1</th>\n",
       "      <td>2</td>\n",
       "      <td>3</td>\n",
       "      <td>1</td>\n",
       "      <td>0</td>\n",
       "      <td>0</td>\n",
       "      <td>0</td>\n",
       "      <td>2</td>\n",
       "      <td>1</td>\n",
       "      <td>166</td>\n",
       "      <td>2220</td>\n",
       "      <td>...</td>\n",
       "      <td>0</td>\n",
       "      <td>0</td>\n",
       "      <td>0</td>\n",
       "      <td>0</td>\n",
       "      <td>0</td>\n",
       "      <td>1</td>\n",
       "      <td>0</td>\n",
       "      <td>1.0</td>\n",
       "      <td>0</td>\n",
       "      <td>0</td>\n",
       "    </tr>\n",
       "    <tr>\n",
       "      <th>2</th>\n",
       "      <td>4</td>\n",
       "      <td>2</td>\n",
       "      <td>1</td>\n",
       "      <td>0</td>\n",
       "      <td>0</td>\n",
       "      <td>0</td>\n",
       "      <td>2</td>\n",
       "      <td>1</td>\n",
       "      <td>17</td>\n",
       "      <td>2265</td>\n",
       "      <td>...</td>\n",
       "      <td>0</td>\n",
       "      <td>0</td>\n",
       "      <td>0</td>\n",
       "      <td>0</td>\n",
       "      <td>0</td>\n",
       "      <td>1</td>\n",
       "      <td>0</td>\n",
       "      <td>1.0</td>\n",
       "      <td>0</td>\n",
       "      <td>0</td>\n",
       "    </tr>\n",
       "    <tr>\n",
       "      <th>3</th>\n",
       "      <td>2</td>\n",
       "      <td>3</td>\n",
       "      <td>2</td>\n",
       "      <td>0</td>\n",
       "      <td>0</td>\n",
       "      <td>0</td>\n",
       "      <td>2</td>\n",
       "      <td>1</td>\n",
       "      <td>16</td>\n",
       "      <td>2250</td>\n",
       "      <td>...</td>\n",
       "      <td>0</td>\n",
       "      <td>0</td>\n",
       "      <td>1</td>\n",
       "      <td>0</td>\n",
       "      <td>0</td>\n",
       "      <td>1</td>\n",
       "      <td>0</td>\n",
       "      <td>1.0</td>\n",
       "      <td>0</td>\n",
       "      <td>0</td>\n",
       "    </tr>\n",
       "    <tr>\n",
       "      <th>4</th>\n",
       "      <td>2</td>\n",
       "      <td>2</td>\n",
       "      <td>2</td>\n",
       "      <td>0</td>\n",
       "      <td>0</td>\n",
       "      <td>0</td>\n",
       "      <td>1</td>\n",
       "      <td>1</td>\n",
       "      <td>23</td>\n",
       "      <td>2305</td>\n",
       "      <td>...</td>\n",
       "      <td>0</td>\n",
       "      <td>0</td>\n",
       "      <td>0</td>\n",
       "      <td>1</td>\n",
       "      <td>0</td>\n",
       "      <td>0</td>\n",
       "      <td>1</td>\n",
       "      <td>1.0</td>\n",
       "      <td>0</td>\n",
       "      <td>0</td>\n",
       "    </tr>\n",
       "  </tbody>\n",
       "</table>\n",
       "<p>5 rows × 85 columns</p>\n",
       "</div>"
      ],
      "text/plain": [
       "   C2  C3  C4  C5  C6  C7  C8  C9  C10   C11 ...   Q63  Q64  Q65  Q66  Q67  \\\n",
       "0   2   3   2   0   0   0   1   1    8  2286 ...     0    0    0    1    0   \n",
       "1   2   3   1   0   0   0   2   1  166  2220 ...     0    0    0    0    0   \n",
       "2   4   2   1   0   0   0   2   1   17  2265 ...     0    0    0    0    0   \n",
       "3   2   3   2   0   0   0   2   1   16  2250 ...     0    0    1    0    0   \n",
       "4   2   2   2   0   0   0   1   1   23  2305 ...     0    0    0    1    0   \n",
       "\n",
       "   Q68  Q69  Q70  Q71  Q72  \n",
       "0    1    0  1.0    0    0  \n",
       "1    1    0  1.0    0    0  \n",
       "2    1    0  1.0    0    0  \n",
       "3    1    0  1.0    0    0  \n",
       "4    0    1  1.0    0    0  \n",
       "\n",
       "[5 rows x 85 columns]"
      ]
     },
     "execution_count": 14,
     "metadata": {},
     "output_type": "execute_result"
    }
   ],
   "source": [
    "#affichage\n",
    "\n",
    "x_train.head()"
   ]
  },
  {
   "cell_type": "code",
   "execution_count": 15,
   "metadata": {
    "collapsed": false
   },
   "outputs": [
    {
     "data": {
      "text/html": [
       "<div>\n",
       "<table border=\"1\" class=\"dataframe\">\n",
       "  <thead>\n",
       "    <tr style=\"text-align: right;\">\n",
       "      <th></th>\n",
       "      <th>ID</th>\n",
       "      <th>TARGET</th>\n",
       "    </tr>\n",
       "  </thead>\n",
       "  <tbody>\n",
       "    <tr>\n",
       "      <th>0</th>\n",
       "      <td>0</td>\n",
       "      <td>0</td>\n",
       "    </tr>\n",
       "    <tr>\n",
       "      <th>1</th>\n",
       "      <td>1</td>\n",
       "      <td>0</td>\n",
       "    </tr>\n",
       "    <tr>\n",
       "      <th>2</th>\n",
       "      <td>2</td>\n",
       "      <td>0</td>\n",
       "    </tr>\n",
       "    <tr>\n",
       "      <th>3</th>\n",
       "      <td>3</td>\n",
       "      <td>1</td>\n",
       "    </tr>\n",
       "    <tr>\n",
       "      <th>4</th>\n",
       "      <td>4</td>\n",
       "      <td>0</td>\n",
       "    </tr>\n",
       "  </tbody>\n",
       "</table>\n",
       "</div>"
      ],
      "text/plain": [
       "   ID  TARGET\n",
       "0   0       0\n",
       "1   1       0\n",
       "2   2       0\n",
       "3   3       1\n",
       "4   4       0"
      ]
     },
     "execution_count": 15,
     "metadata": {},
     "output_type": "execute_result"
    }
   ],
   "source": [
    "y_train.head()"
   ]
  },
  {
   "cell_type": "code",
   "execution_count": 16,
   "metadata": {
    "collapsed": false
   },
   "outputs": [
    {
     "data": {
      "text/html": [
       "<div>\n",
       "<table border=\"1\" class=\"dataframe\">\n",
       "  <thead>\n",
       "    <tr style=\"text-align: right;\">\n",
       "      <th></th>\n",
       "      <th>C2</th>\n",
       "      <th>C3</th>\n",
       "      <th>C4</th>\n",
       "      <th>C5</th>\n",
       "      <th>C6</th>\n",
       "      <th>C7</th>\n",
       "      <th>C8</th>\n",
       "      <th>C9</th>\n",
       "      <th>C10</th>\n",
       "      <th>C11</th>\n",
       "      <th>...</th>\n",
       "      <th>Q63</th>\n",
       "      <th>Q64</th>\n",
       "      <th>Q65</th>\n",
       "      <th>Q66</th>\n",
       "      <th>Q67</th>\n",
       "      <th>Q68</th>\n",
       "      <th>Q69</th>\n",
       "      <th>Q70</th>\n",
       "      <th>Q71</th>\n",
       "      <th>Q72</th>\n",
       "    </tr>\n",
       "  </thead>\n",
       "  <tbody>\n",
       "    <tr>\n",
       "      <th>0</th>\n",
       "      <td>2</td>\n",
       "      <td>2</td>\n",
       "      <td>1</td>\n",
       "      <td>0</td>\n",
       "      <td>0</td>\n",
       "      <td>0</td>\n",
       "      <td>1</td>\n",
       "      <td>1</td>\n",
       "      <td>128</td>\n",
       "      <td>2295</td>\n",
       "      <td>...</td>\n",
       "      <td>0</td>\n",
       "      <td>0</td>\n",
       "      <td>0</td>\n",
       "      <td>0</td>\n",
       "      <td>1</td>\n",
       "      <td>1</td>\n",
       "      <td>0</td>\n",
       "      <td>1</td>\n",
       "      <td>0</td>\n",
       "      <td>0</td>\n",
       "    </tr>\n",
       "    <tr>\n",
       "      <th>1</th>\n",
       "      <td>2</td>\n",
       "      <td>2</td>\n",
       "      <td>2</td>\n",
       "      <td>0</td>\n",
       "      <td>1</td>\n",
       "      <td>0</td>\n",
       "      <td>1</td>\n",
       "      <td>1</td>\n",
       "      <td>20</td>\n",
       "      <td>2275</td>\n",
       "      <td>...</td>\n",
       "      <td>0</td>\n",
       "      <td>0</td>\n",
       "      <td>0</td>\n",
       "      <td>1</td>\n",
       "      <td>0</td>\n",
       "      <td>1</td>\n",
       "      <td>0</td>\n",
       "      <td>0</td>\n",
       "      <td>1</td>\n",
       "      <td>0</td>\n",
       "    </tr>\n",
       "    <tr>\n",
       "      <th>2</th>\n",
       "      <td>2</td>\n",
       "      <td>2</td>\n",
       "      <td>2</td>\n",
       "      <td>0</td>\n",
       "      <td>0</td>\n",
       "      <td>0</td>\n",
       "      <td>1</td>\n",
       "      <td>1</td>\n",
       "      <td>4</td>\n",
       "      <td>2320</td>\n",
       "      <td>...</td>\n",
       "      <td>0</td>\n",
       "      <td>0</td>\n",
       "      <td>1</td>\n",
       "      <td>0</td>\n",
       "      <td>0</td>\n",
       "      <td>0</td>\n",
       "      <td>1</td>\n",
       "      <td>0</td>\n",
       "      <td>0</td>\n",
       "      <td>0</td>\n",
       "    </tr>\n",
       "    <tr>\n",
       "      <th>3</th>\n",
       "      <td>2</td>\n",
       "      <td>2</td>\n",
       "      <td>2</td>\n",
       "      <td>1</td>\n",
       "      <td>0</td>\n",
       "      <td>0</td>\n",
       "      <td>1</td>\n",
       "      <td>1</td>\n",
       "      <td>6</td>\n",
       "      <td>2277</td>\n",
       "      <td>...</td>\n",
       "      <td>0</td>\n",
       "      <td>0</td>\n",
       "      <td>0</td>\n",
       "      <td>0</td>\n",
       "      <td>0</td>\n",
       "      <td>1</td>\n",
       "      <td>1</td>\n",
       "      <td>1</td>\n",
       "      <td>0</td>\n",
       "      <td>0</td>\n",
       "    </tr>\n",
       "    <tr>\n",
       "      <th>4</th>\n",
       "      <td>2</td>\n",
       "      <td>4</td>\n",
       "      <td>2</td>\n",
       "      <td>0</td>\n",
       "      <td>0</td>\n",
       "      <td>0</td>\n",
       "      <td>2</td>\n",
       "      <td>1</td>\n",
       "      <td>9</td>\n",
       "      <td>2245</td>\n",
       "      <td>...</td>\n",
       "      <td>0</td>\n",
       "      <td>0</td>\n",
       "      <td>0</td>\n",
       "      <td>0</td>\n",
       "      <td>1</td>\n",
       "      <td>1</td>\n",
       "      <td>0</td>\n",
       "      <td>1</td>\n",
       "      <td>0</td>\n",
       "      <td>0</td>\n",
       "    </tr>\n",
       "  </tbody>\n",
       "</table>\n",
       "<p>5 rows × 85 columns</p>\n",
       "</div>"
      ],
      "text/plain": [
       "   C2  C3  C4  C5  C6  C7  C8  C9  C10   C11 ...   Q63  Q64  Q65  Q66  Q67  \\\n",
       "0   2   2   1   0   0   0   1   1  128  2295 ...     0    0    0    0    1   \n",
       "1   2   2   2   0   1   0   1   1   20  2275 ...     0    0    0    1    0   \n",
       "2   2   2   2   0   0   0   1   1    4  2320 ...     0    0    1    0    0   \n",
       "3   2   2   2   1   0   0   1   1    6  2277 ...     0    0    0    0    0   \n",
       "4   2   4   2   0   0   0   2   1    9  2245 ...     0    0    0    0    1   \n",
       "\n",
       "   Q68  Q69  Q70  Q71  Q72  \n",
       "0    1    0    1    0    0  \n",
       "1    1    0    0    1    0  \n",
       "2    0    1    0    0    0  \n",
       "3    1    1    1    0    0  \n",
       "4    1    0    1    0    0  \n",
       "\n",
       "[5 rows x 85 columns]"
      ]
     },
     "execution_count": 16,
     "metadata": {},
     "output_type": "execute_result"
    }
   ],
   "source": [
    "x_test.head()"
   ]
  },
  {
   "cell_type": "code",
   "execution_count": 17,
   "metadata": {
    "collapsed": false
   },
   "outputs": [
    {
     "data": {
      "text/plain": [
       "(21260, 85)"
      ]
     },
     "execution_count": 17,
     "metadata": {},
     "output_type": "execute_result"
    }
   ],
   "source": [
    "shape(x_test)"
   ]
  },
  {
   "cell_type": "code",
   "execution_count": 18,
   "metadata": {
    "collapsed": false
   },
   "outputs": [
    {
     "data": {
      "text/plain": [
       "(85529,)"
      ]
     },
     "execution_count": 18,
     "metadata": {},
     "output_type": "execute_result"
    }
   ],
   "source": [
    "\n",
    "y_train=y_train.values[:,1]\n",
    "shape(y_train)\n",
    "#y_train\n",
    "#selection = Selec.fit_transform(x_train,y_train)\n",
    "\n",
    "\n",
    "\n",
    "\n"
   ]
  },
  {
   "cell_type": "code",
   "execution_count": 19,
   "metadata": {
    "collapsed": true
   },
   "outputs": [],
   "source": [
    "x_train=x_train.values"
   ]
  },
  {
   "cell_type": "markdown",
   "metadata": {},
   "source": [
    "<b>stratification de l'echantillon: \n",
    "En effet un test nous a montré qu'on avait autant de 1 que 0 à predire alors que l'échantillon d'apprentissage n'a pas du tout cette Stratification d'ou par une méthode de tirage aléatoire nous allons constituer une échantillon stratifié<b>\n"
   ]
  },
  {
   "cell_type": "code",
   "execution_count": 42,
   "metadata": {
    "collapsed": false
   },
   "outputs": [
    {
     "data": {
      "text/plain": [
       "16558"
      ]
     },
     "execution_count": 42,
     "metadata": {},
     "output_type": "execute_result"
    }
   ],
   "source": [
    "\n",
    "\n",
    "#identification des lignes avec des 0 et des 1\n",
    "ind0=[0]*85530\n",
    "for i in range(85529):\n",
    "    ind0[i]=i*(y_train[i]==0)\n",
    "\n",
    "ind0\n",
    "v1=[0]\n",
    "v2=[3]\n",
    "for i in range(85529):\n",
    "    if ind0[i]>0:\n",
    "        v1.append(ind0[i])\n",
    "    elif (ind0[i]==0)&(i>3):\n",
    "        v2.append(i)\n",
    "        \n",
    "ind0=v1\n",
    "ind1=v2\n",
    "len(ind1)\n",
    "\n",
    "from random import uniform\n",
    "v=[0]*len(ind1)\n",
    "for i in range(len(ind1)):\n",
    "    u=uniform(0,1)\n",
    "    v[i]=(u<0.5)*ind0[i]+(u>=0.5)*ind1[i]\n",
    "\n",
    "tir=v\n",
    "len(tir)\n"
   ]
  },
  {
   "cell_type": "code",
   "execution_count": 9,
   "metadata": {
    "collapsed": false
   },
   "outputs": [
    {
     "name": "stdout",
     "output_type": "stream",
     "text": [
      "0.544772386193\n"
     ]
    }
   ],
   "source": [
    "#prediction par plus proche voisins sur l'echantillon stratifié avec la totalité de l'échantillon :\n",
    "\n",
    "from sklearn import neighbors\n",
    "mod = neighbors.KNeighborsClassifier(n_neighbors = 10, weights=\"uniform\")\n",
    "mod.fit(x_train[tir[1:10000]], y_train[tir[1:10000]])\n",
    "\n",
    "#mini-cross validation avec un bloc plus petit (testset validation) :\n",
    "#print(\"Taux de bien classés sur le 2ème bloc :\") \n",
    "print(mod.score(x_train[tir[10001:12000]], y_train[tir[10001:12000]]))"
   ]
  },
  {
   "cell_type": "code",
   "execution_count": 20,
   "metadata": {
    "collapsed": false
   },
   "outputs": [],
   "source": [
    "\n",
    "x_test=x_test.values"
   ]
  },
  {
   "cell_type": "code",
   "execution_count": 11,
   "metadata": {
    "collapsed": false
   },
   "outputs": [
    {
     "data": {
      "text/plain": [
       "7596"
      ]
     },
     "execution_count": 11,
     "metadata": {},
     "output_type": "execute_result"
    }
   ],
   "source": [
    "pred = mod.predict(x_test)\n",
    "pred\n",
    "sum(pred)#pour vérifier que la proportion de 1 prédit est bien en accord \n"
   ]
  },
  {
   "cell_type": "markdown",
   "metadata": {},
   "source": [
    "<b>même avec une stratification les k plus proches voisins ont des resultats relativements mauvais <b>"
   ]
  },
  {
   "cell_type": "markdown",
   "metadata": {},
   "source": [
    "<b>Prédiction par Support vecteur machine :<b>"
   ]
  },
  {
   "cell_type": "code",
   "execution_count": 12,
   "metadata": {
    "collapsed": false
   },
   "outputs": [
    {
     "name": "stdout",
     "output_type": "stream",
     "text": [
      "Taux de bien classés sur les données de validation:\n",
      "0.543\n"
     ]
    }
   ],
   "source": [
    "#test du svm posons le modèle:\n",
    "\n",
    "\n",
    "from sklearn import svm\n",
    "mod_svm = svm.SVC(kernel='rbf')\n",
    "\n",
    "mod_svm.fit(x_train[tir[1:12000],:], y_train[tir[1:12000]])\n",
    "pred_svm = mod_svm.predict(x_train[tir[1:12000],:])\n",
    "\n",
    "\n",
    "#Cross validation sur un bloc plus petit(testset validation)  :\n",
    "\n",
    "\n",
    "print(\"Taux de bien classés sur les données de validation:\") \n",
    "print(mod_svm.score(x_train[tir[12000:14000],:], y_train[tir[12000:14000]]))\n"
   ]
  },
  {
   "cell_type": "markdown",
   "metadata": {},
   "source": [
    "<b>Prédiction par Support vecteur machine :<b>"
   ]
  },
  {
   "cell_type": "code",
   "execution_count": 69,
   "metadata": {
    "collapsed": false
   },
   "outputs": [
    {
     "data": {
      "text/plain": [
       "16156"
      ]
     },
     "execution_count": 69,
     "metadata": {},
     "output_type": "execute_result"
    }
   ],
   "source": [
    "pred_test1=mod_svm.predict(x_test)\n",
    "sum(pred_test1)\n"
   ]
  },
  {
   "cell_type": "markdown",
   "metadata": {},
   "source": [
    " <b>création du modèle de Random forest  avec les variables sélectionnées et l'echantillon stratifié   <b>"
   ]
  },
  {
   "cell_type": "code",
   "execution_count": 67,
   "metadata": {
    "collapsed": false
   },
   "outputs": [
    {
     "name": "stdout",
     "output_type": "stream",
     "text": [
      "Taux de bien classés sur les données de validation :\n",
      "0.651217072357\n"
     ]
    }
   ],
   "source": [
    "\n",
    "from sklearn.ensemble import RandomForestClassifier\n",
    "mod3= RandomForestClassifier(n_estimators=200,max_features=84,max_depth =11,criterion=\"gini\")\n",
    "\n",
    "mod3.fit(x_train, y_train,sample_weight=np.array([1 if i==0 else 10 for i in y_train ))\n",
    "#mod3_RF = mod3.predict(x_train[tir[0:8500],:])\n",
    "\n",
    "#mini-cross validationn sur un bloc plus petit(testset validation)  :\n",
    "\n",
    "print(\"Taux de bien classés sur les données de validation :\") \n",
    "\n",
    "print(mod3.score(x_train[tir[12001:15000],:], y_train[tir[12001:15000]],sample_weight=\n",
    "                 np.array([1 if i==0 else 1 for i in y_train[tir[12001:15000]]])))\n"
   ]
  },
  {
   "cell_type": "code",
   "execution_count": 69,
   "metadata": {
    "collapsed": false
   },
   "outputs": [
    {
     "data": {
      "text/plain": [
       "9727"
      ]
     },
     "execution_count": 69,
     "metadata": {},
     "output_type": "execute_result"
    }
   ],
   "source": [
    "yn=pd.read_csv(\"0.659.csv\",sep=\",\")\n",
    "pred_vie=mod3.predict(x_test)\n",
    "sum(pred_vie)\n",
    "\n",
    "tab=pd.DataFrame(pred_vie,columns=[\"TARGETS\"])\n",
    "tab.to_csv('pyt.csv', header=True)\n",
    "sum(pred_vie)"
   ]
  },
  {
   "cell_type": "code",
   "execution_count": 41,
   "metadata": {
    "collapsed": false
   },
   "outputs": [
    {
     "name": "stdout",
     "output_type": "stream",
     "text": [
      "1 0.560853617873\n",
      "5 0.594198066022\n",
      "10 0.616872290764\n",
      "30 0.638212737579\n",
      "50 0.625208402801\n",
      "75 0.634544848283\n",
      "100 0.627542514171\n",
      "150 0.634544848283\n",
      "200 0.631543847949\n",
      "300 0.636545515172\n"
     ]
    }
   ],
   "source": [
    "# cross-validation sur le nombre d'arbre\n",
    "\n",
    "\n",
    "modtest= RandomForestClassifier()\n",
    "\n",
    "for i in [1,5,10,30,50,75,100,150,200,300]:\n",
    "    modtest.set_params(n_estimators=i,max_features=80,max_depth =16,criterion=\"entropy\")\n",
    "    modtest.fit(x_train[tir[0:9000],:], y_train[tir[0:9000]])\n",
    "    print (i, modtest.score(x_train[tir[9001:12000],:], y_train[tir[9001:12000]]))\n",
    "    \n",
    "    \n",
    "#150 reste optimal pour le nombre d'arbre optimal "
   ]
  },
  {
   "cell_type": "markdown",
   "metadata": {},
   "source": [
    "<b>un test à la main nous a montré qu'utiliser la totalité des variables est ce qui stabilise au mieux la méthode<b>"
   ]
  },
  {
   "cell_type": "code",
   "execution_count": 38,
   "metadata": {
    "collapsed": false
   },
   "outputs": [
    {
     "name": "stdout",
     "output_type": "stream",
     "text": [
      "1 0.574929154859\n",
      "5 0.631938656443\n",
      "10 0.64510751792\n",
      "30 0.641940323387\n",
      "50 0.641606934489\n",
      "75 0.64327387898\n",
      "100 0.637439573262\n",
      "125 0.639773295549\n",
      "150 0.643440573429\n",
      "200 0.637606267711\n"
     ]
    }
   ],
   "source": [
    "# cross validation sur la profondeur  des arbres\n",
    "\n",
    "\n",
    "modtest= RandomForestClassifier()\n",
    "\n",
    "for i in [1,5,10,30,50,75,100,125,150,200]:\n",
    "    modtest.set_params(n_estimators=150,max_features=84,max_depth = i,criterion=\"entropy\")\n",
    "    modtest.fit(x_train[tir[0:9000],:], y_train[tir[0:9000]])\n",
    "    #validation\n",
    "    print (i, modtest.score(x_train[tir[9001:15000],:], y_train[tir[9001:15000]]))\n",
    "    \n",
    "#10 reste la meilleure profondeur d'arbre  "
   ]
  },
  {
   "cell_type": "markdown",
   "metadata": {},
   "source": [
    "<b>Random forest avec les paramètres  obtenus par cross-validation(test-set validation)<b>"
   ]
  },
  {
   "cell_type": "code",
   "execution_count": 51,
   "metadata": {
    "collapsed": false
   },
   "outputs": [
    {
     "name": "stdout",
     "output_type": "stream",
     "text": [
      "Taux de bien classés sur les données de validation :\n",
      "0.645274212369\n"
     ]
    }
   ],
   "source": [
    "#cross-valider param\n",
    "\n",
    "\n",
    "from sklearn.ensemble import RandomForestClassifier\n",
    "mod3= RandomForestClassifier(n_estimators=150,max_features=10,max_depth =84,criterion=\"entropy\",class_weigt=[0.5,0.5])\n",
    "mod3.fit(x_train[tir[0:9000],:], y_train[tir[0:9000]])\n",
    "\n",
    "#évaluation sur un bloc plus petit (testset validation ):\n",
    "\n",
    "print(\"Taux de bien classés sur les données de validation :\") \n",
    "\n",
    "print(mod3.score(x_train[tir[9001:15000],:], y_train[tir[9001:15000]]))\n"
   ]
  },
  {
   "cell_type": "markdown",
   "metadata": {},
   "source": [
    " <b>création du fichier de soumission <b>: "
   ]
  },
  {
   "cell_type": "code",
   "execution_count": 72,
   "metadata": {
    "collapsed": false
   },
   "outputs": [
    {
     "data": {
      "text/plain": [
       "9390"
      ]
     },
     "execution_count": 72,
     "metadata": {},
     "output_type": "execute_result"
    }
   ],
   "source": [
    "\n",
    "\n",
    "pred_test=mod3.predict(x_test)\n",
    "sum(pred_test)\n",
    "yn=pd.read_csv(\"0.659.csv\",sep=\",\")\n",
    "tab=pd.DataFrame(pred_test,columns=[\"TARGETS\"])\n",
    "tab.to_csv('pyt.csv', header=True)\n",
    "sum(pred_test)\n"
   ]
  },
  {
   "cell_type": "markdown",
   "metadata": {},
   "source": [
    " <b>sélection de variables sur la random forest (les variables les plus importantes ) <b>:"
   ]
  },
  {
   "cell_type": "code",
   "execution_count": 73,
   "metadata": {
    "collapsed": false
   },
   "outputs": [
    {
     "data": {
      "text/plain": [
       "29"
      ]
     },
     "execution_count": 73,
     "metadata": {},
     "output_type": "execute_result"
    }
   ],
   "source": [
    "\n",
    "\n",
    "\n",
    "imp=mod3.feature_importances_\n",
    "imp\n",
    "p=[]\n",
    "type(p)\n",
    "for i in range(50):\n",
    "    if imp[i]>0.01:\n",
    "         p.append(i)\n",
    "p\n",
    "len(p)"
   ]
  },
  {
   "cell_type": "markdown",
   "metadata": {},
   "source": [
    " <b>   entrainement sur l'échantillon constitué de variables les plus importantes dans la random_forest:  <b>"
   ]
  },
  {
   "cell_type": "code",
   "execution_count": 74,
   "metadata": {
    "collapsed": false,
    "scrolled": true
   },
   "outputs": [
    {
     "name": "stdout",
     "output_type": "stream",
     "text": [
      "Taux de bien classés sur les données de validation :\n",
      "0.637542922549\n"
     ]
    }
   ],
   "source": [
    "#entrainnement sur l'échantillon constitué de variables les plus importantes dans la random_forest:\n",
    "\n",
    "from sklearn.ensemble import RandomForestClassifier\n",
    "x_train_new=x_train[:,p]\n",
    "mod4= RandomForestClassifier(n_estimators=200,max_features=len(p),max_depth =101,criterion=\"entropy\")\n",
    "mod4.fit(x_train_new[tir[0:9000],:], y_train[tir[0:9000]])\n",
    "print(\"Taux de bien classés sur les données de validation :\") \n",
    "\n",
    "print(mod4.score(x_train_new[tir[9001:11622],], y_train[tir[9001:11622]]))"
   ]
  },
  {
   "cell_type": "markdown",
   "metadata": {},
   "source": [
    "<b>creation du fichier de soumission <b>: "
   ]
  },
  {
   "cell_type": "code",
   "execution_count": 19,
   "metadata": {
    "collapsed": false
   },
   "outputs": [
    {
     "data": {
      "text/plain": [
       "9605"
      ]
     },
     "execution_count": 19,
     "metadata": {},
     "output_type": "execute_result"
    }
   ],
   "source": [
    "pred_test2=mod4.predict(x_test[:,p])\n",
    "sum(pred_test2)\n",
    "#yn=pd.read_csv(\"0.659.csv\",sep=\",\")\n",
    "tab=pd.DataFrame(pred_test2,columns=[\"TARGETS\"])\n",
    "tab.to_csv('pyt.csv', header=True)\n",
    "sum(pred_test2)\n"
   ]
  },
  {
   "cell_type": "markdown",
   "metadata": {},
   "source": [
    "<b>  mise en oeuvre du Gradient Boosting pour booster la performance des arbres succéssifs  <b> :"
   ]
  },
  {
   "cell_type": "code",
   "execution_count": 83,
   "metadata": {
    "collapsed": false
   },
   "outputs": [
    {
     "name": "stdout",
     "output_type": "stream",
     "text": [
      "      Iter       Train Loss   Remaining Time \n",
      "         1           1.2627            2.63m\n",
      "         2           1.1571            2.75m\n",
      "         3           1.0591            2.91m\n",
      "         4           0.9752            3.01m\n",
      "         5           0.9041            3.08m\n",
      "         6           0.8348            3.19m\n",
      "         7           0.7802            3.22m\n",
      "         8           0.7241            3.31m\n",
      "         9           0.6702            3.42m\n",
      "        10           0.6213            3.50m\n",
      "        20           0.3060            3.64m\n",
      "        30           0.1592            3.66m\n",
      "        40           0.0810            3.59m\n",
      "        50           0.0453            3.32m\n",
      "        60           0.0251            3.04m\n",
      "        70           0.0146            2.68m\n",
      "        80           0.0078            2.36m\n",
      "        90           0.0044            2.01m\n",
      "       100           0.0026            1.64m\n",
      "Taux de bien classés sur les données d'apprentissage :\n",
      "0.637545848616\n"
     ]
    }
   ],
   "source": [
    "\n",
    "from sklearn.ensemble import GradientBoostingClassifier\n",
    "mod5= GradientBoostingClassifier(n_estimators=150,max_features=84,max_depth =15,verbose=True)\n",
    "mod5.fit(x_train[tir[0:9000],:], y_train[tir[0:9000]])\n",
    "#mod5_appr = mod5.predict(x_train[tir[0:8000],:])\n",
    "print(\"Taux de bien classés sur les données d'apprentissage :\") \n",
    "#calcul du score sur deux echantillons de test (cross validation de la methode) avec \n",
    "#la même strat\n",
    "\n",
    "#Cross-validation des paramètres (non automatisée car de multiple test de paramètres non fortuits ont étés éffectués )\n",
    "print(mod5.score(x_train[tir[9001:12000],:], y_train[tir[9001:12000]]))\n",
    "\n"
   ]
  },
  {
   "cell_type": "code",
   "execution_count": 21,
   "metadata": {
    "collapsed": false
   },
   "outputs": [
    {
     "name": "stdout",
     "output_type": "stream",
     "text": [
      "0.6325\n"
     ]
    }
   ],
   "source": [
    "#validation sur un deuxième echantillon de même taille que le premier:\n",
    "\n",
    "\n",
    "print(mod5.score(x_train[tir[12000:14000],:], y_train[tir[12000:14000]]))"
   ]
  },
  {
   "cell_type": "markdown",
   "metadata": {},
   "source": [
    "<b>creation du fichier de soumission <b>: "
   ]
  },
  {
   "cell_type": "code",
   "execution_count": 22,
   "metadata": {
    "collapsed": false
   },
   "outputs": [],
   "source": [
    "\n",
    "\n",
    "\n",
    "#pred_test3=mod5.predict(x_test)\n",
    "#sum(pred_test3)\n",
    "#tab=pd.DataFrame(pred_test3,columns=[\"TARGETS\"])\n",
    "#tab.to_csv('pyt.csv', header=True)\n",
    "#sum(pred_test3)\n",
    "\n",
    "\n",
    "\n"
   ]
  },
  {
   "cell_type": "markdown",
   "metadata": {},
   "source": [
    " <b>Blending: croisement des réponses des meilleures méthodes obtenues  <b>"
   ]
  },
  {
   "cell_type": "markdown",
   "metadata": {},
   "source": [
    " <b>on ne va garder que les 1 ayant eu un grand nombre de vote par les deux méthodes les plus plus puissantes que \n",
    "    nous ayons eu à tester et ceux avec leurs meilleurs paramètres  <b>"
   ]
  },
  {
   "cell_type": "code",
   "execution_count": 140,
   "metadata": {
    "collapsed": false
   },
   "outputs": [
    {
     "data": {
      "text/plain": [
       "8815"
      ]
     },
     "execution_count": 140,
     "metadata": {},
     "output_type": "execute_result"
    }
   ],
   "source": [
    "\n",
    "    \n",
    "prm31=(mod3.set_params(max_depth=11,n_estimators=200)).predict(x_test)\n",
    "prm32=(mod3.set_params(max_depth=15,n_estimators=175)).predict(x_test)\n",
    "prm33=(mod3.set_params(max_depth=30,n_estimators=150)).predict(x_test)\n",
    "prm34=(mod3.set_params(max_depth=50,n_estimators=150)).predict(x_test)\n",
    "prm51=(mod5.set_params(max_depth=11,n_estimators=200)).predict(x_test)\n",
    "prm52=(mod5.set_params(max_depth=15,n_estimators=175)).predict(x_test)\n",
    "prm53=(mod5.set_params(max_depth=30,n_estimators=150)).predict(x_test)\n",
    "prm54=(mod5.set_params(max_depth=50,n_estimators=150)).predict(x_test)\n",
    "pred_meill=((pd.read_csv(\"0.659.csv\",sep=\",\")).values)[:,1]\n",
    "v=[0]*21260\n",
    "v=prm31+prm32+prm33+prm34+prm51+prm52+prm53+prm54+pred_meill+pred\n",
    "\n",
    "for i in range(len(prm31)):\n",
    "    if v[i]>7:\n",
    "        v[i]=1\n",
    "    else :\n",
    "        v[i]=pred_meill[i]        \n",
    "sum(v)\n",
    "\n",
    "\n",
    "\n",
    "\n",
    "\n",
    "c=[0]*21260\n",
    "for i in range(len(prm31)):\n",
    "    c[i]=v[i]+pred_meill[i]\n",
    "    if c[i]>1:\n",
    "            c[i]=1\n",
    "    elif c[i]==0:\n",
    "            c[i]=0\n",
    "    elif c[i]==1 & pred_meill[i]==1 :\n",
    "        c[i]=1\n",
    "    else:\n",
    "        c[i]=0\n",
    "        \n",
    "\n",
    "sum(c)\n",
    "\n",
    "\n",
    "\n"
   ]
  }
 ],
 "metadata": {
  "anaconda-cloud": {},
  "kernelspec": {
   "display_name": "Python [conda root]",
   "language": "python",
   "name": "conda-root-py"
  },
  "language_info": {
   "codemirror_mode": {
    "name": "ipython",
    "version": 3
   },
   "file_extension": ".py",
   "mimetype": "text/x-python",
   "name": "python",
   "nbconvert_exporter": "python",
   "pygments_lexer": "ipython3",
   "version": "3.5.2"
  },
  "nbpresent": {
   "slides": {
    "8f8a4a03-8b24-4806-b2de-7c7192200f6e": {
     "id": "8f8a4a03-8b24-4806-b2de-7c7192200f6e",
     "prev": null,
     "regions": {}
    }
   },
   "themes": {}
  }
 },
 "nbformat": 4,
 "nbformat_minor": 1
}
