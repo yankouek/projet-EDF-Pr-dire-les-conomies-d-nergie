{
 "cells": [
  {
   "cell_type": "code",
   "execution_count": 1,
   "metadata": {
    "collapsed": false
   },
   "outputs": [
    {
     "name": "stderr",
     "output_type": "stream",
     "text": [
      "C:\\Users\\User\\Anaconda3\\lib\\site-packages\\sklearn\\lda.py:4: DeprecationWarning: lda.LDA has been moved to discriminant_analysis.LinearDiscriminantAnalysis in 0.17 and will be removed in 0.19\n",
      "  \"in 0.17 and will be removed in 0.19\", DeprecationWarning)\n",
      "C:\\Users\\User\\Anaconda3\\lib\\site-packages\\sklearn\\qda.py:4: DeprecationWarning: qda.QDA has been moved to discriminant_analysis.QuadraticDiscriminantAnalysis in 0.17 and will be removed in 0.19.\n",
      "  \"in 0.17 and will be removed in 0.19.\", DeprecationWarning)\n"
     ]
    }
   ],
   "source": [
    "%matplotlib inline\n",
    "from pylab import *\n",
    "import pandas as pd\n",
    "from sklearn import manifold\n",
    "from sklearn import *\n",
    "\n",
    "import numpy as np \n",
    "from numpy import *"
   ]
  },
  {
   "cell_type": "markdown",
   "metadata": {},
   "source": [
    " <b>Avec le prétraitement en R  des variables qualitatives et des valeurs manquantes  : <b>"
   ]
  },
  {
   "cell_type": "code",
   "execution_count": 2,
   "metadata": {
    "collapsed": false
   },
   "outputs": [],
   "source": [
    "\n",
    "x_train= pd.read_csv(\"traincomplet.csv\",sep=\",\")\n",
    "y_train=pd.read_csv(\"sortie_train.csv\",sep=\",\")\n",
    "x_test=pd.read_csv(\"test.csv\",sep=\",\")\n",
    "\n"
   ]
  },
  {
   "cell_type": "markdown",
   "metadata": {},
   "source": [
    " <b>affichage des premieres lignes de input_train, input_test et output_train<b> :"
   ]
  },
  {
   "cell_type": "code",
   "execution_count": 3,
   "metadata": {
    "collapsed": false
   },
   "outputs": [
    {
     "data": {
      "text/html": [
       "<div>\n",
       "<table border=\"1\" class=\"dataframe\">\n",
       "  <thead>\n",
       "    <tr style=\"text-align: right;\">\n",
       "      <th></th>\n",
       "      <th>C2</th>\n",
       "      <th>C3</th>\n",
       "      <th>C4</th>\n",
       "      <th>C5</th>\n",
       "      <th>C6</th>\n",
       "      <th>C7</th>\n",
       "      <th>C8</th>\n",
       "      <th>C9</th>\n",
       "      <th>C10</th>\n",
       "      <th>C11</th>\n",
       "      <th>...</th>\n",
       "      <th>Q63</th>\n",
       "      <th>Q64</th>\n",
       "      <th>Q65</th>\n",
       "      <th>Q66</th>\n",
       "      <th>Q67</th>\n",
       "      <th>Q68</th>\n",
       "      <th>Q69</th>\n",
       "      <th>Q70</th>\n",
       "      <th>Q71</th>\n",
       "      <th>Q72</th>\n",
       "    </tr>\n",
       "  </thead>\n",
       "  <tbody>\n",
       "    <tr>\n",
       "      <th>0</th>\n",
       "      <td>2</td>\n",
       "      <td>3</td>\n",
       "      <td>2</td>\n",
       "      <td>0</td>\n",
       "      <td>0</td>\n",
       "      <td>0</td>\n",
       "      <td>1</td>\n",
       "      <td>1</td>\n",
       "      <td>8</td>\n",
       "      <td>2286</td>\n",
       "      <td>...</td>\n",
       "      <td>0</td>\n",
       "      <td>0</td>\n",
       "      <td>0</td>\n",
       "      <td>1</td>\n",
       "      <td>0</td>\n",
       "      <td>1</td>\n",
       "      <td>0</td>\n",
       "      <td>1.0</td>\n",
       "      <td>0</td>\n",
       "      <td>0</td>\n",
       "    </tr>\n",
       "    <tr>\n",
       "      <th>1</th>\n",
       "      <td>2</td>\n",
       "      <td>3</td>\n",
       "      <td>1</td>\n",
       "      <td>0</td>\n",
       "      <td>0</td>\n",
       "      <td>0</td>\n",
       "      <td>2</td>\n",
       "      <td>1</td>\n",
       "      <td>166</td>\n",
       "      <td>2220</td>\n",
       "      <td>...</td>\n",
       "      <td>0</td>\n",
       "      <td>0</td>\n",
       "      <td>0</td>\n",
       "      <td>0</td>\n",
       "      <td>0</td>\n",
       "      <td>1</td>\n",
       "      <td>0</td>\n",
       "      <td>1.0</td>\n",
       "      <td>0</td>\n",
       "      <td>0</td>\n",
       "    </tr>\n",
       "    <tr>\n",
       "      <th>2</th>\n",
       "      <td>4</td>\n",
       "      <td>2</td>\n",
       "      <td>1</td>\n",
       "      <td>0</td>\n",
       "      <td>0</td>\n",
       "      <td>0</td>\n",
       "      <td>2</td>\n",
       "      <td>1</td>\n",
       "      <td>17</td>\n",
       "      <td>2265</td>\n",
       "      <td>...</td>\n",
       "      <td>0</td>\n",
       "      <td>0</td>\n",
       "      <td>0</td>\n",
       "      <td>0</td>\n",
       "      <td>0</td>\n",
       "      <td>1</td>\n",
       "      <td>0</td>\n",
       "      <td>1.0</td>\n",
       "      <td>0</td>\n",
       "      <td>0</td>\n",
       "    </tr>\n",
       "    <tr>\n",
       "      <th>3</th>\n",
       "      <td>2</td>\n",
       "      <td>3</td>\n",
       "      <td>2</td>\n",
       "      <td>0</td>\n",
       "      <td>0</td>\n",
       "      <td>0</td>\n",
       "      <td>2</td>\n",
       "      <td>1</td>\n",
       "      <td>16</td>\n",
       "      <td>2250</td>\n",
       "      <td>...</td>\n",
       "      <td>0</td>\n",
       "      <td>0</td>\n",
       "      <td>1</td>\n",
       "      <td>0</td>\n",
       "      <td>0</td>\n",
       "      <td>1</td>\n",
       "      <td>0</td>\n",
       "      <td>1.0</td>\n",
       "      <td>0</td>\n",
       "      <td>0</td>\n",
       "    </tr>\n",
       "    <tr>\n",
       "      <th>4</th>\n",
       "      <td>2</td>\n",
       "      <td>2</td>\n",
       "      <td>2</td>\n",
       "      <td>0</td>\n",
       "      <td>0</td>\n",
       "      <td>0</td>\n",
       "      <td>1</td>\n",
       "      <td>1</td>\n",
       "      <td>23</td>\n",
       "      <td>2305</td>\n",
       "      <td>...</td>\n",
       "      <td>0</td>\n",
       "      <td>0</td>\n",
       "      <td>0</td>\n",
       "      <td>1</td>\n",
       "      <td>0</td>\n",
       "      <td>0</td>\n",
       "      <td>1</td>\n",
       "      <td>1.0</td>\n",
       "      <td>0</td>\n",
       "      <td>0</td>\n",
       "    </tr>\n",
       "  </tbody>\n",
       "</table>\n",
       "<p>5 rows × 85 columns</p>\n",
       "</div>"
      ],
      "text/plain": [
       "   C2  C3  C4  C5  C6  C7  C8  C9  C10   C11 ...   Q63  Q64  Q65  Q66  Q67  \\\n",
       "0   2   3   2   0   0   0   1   1    8  2286 ...     0    0    0    1    0   \n",
       "1   2   3   1   0   0   0   2   1  166  2220 ...     0    0    0    0    0   \n",
       "2   4   2   1   0   0   0   2   1   17  2265 ...     0    0    0    0    0   \n",
       "3   2   3   2   0   0   0   2   1   16  2250 ...     0    0    1    0    0   \n",
       "4   2   2   2   0   0   0   1   1   23  2305 ...     0    0    0    1    0   \n",
       "\n",
       "   Q68  Q69  Q70  Q71  Q72  \n",
       "0    1    0  1.0    0    0  \n",
       "1    1    0  1.0    0    0  \n",
       "2    1    0  1.0    0    0  \n",
       "3    1    0  1.0    0    0  \n",
       "4    0    1  1.0    0    0  \n",
       "\n",
       "[5 rows x 85 columns]"
      ]
     },
     "execution_count": 3,
     "metadata": {},
     "output_type": "execute_result"
    }
   ],
   "source": [
    "\n",
    "x_train.head()"
   ]
  },
  {
   "cell_type": "code",
   "execution_count": 4,
   "metadata": {
    "collapsed": false
   },
   "outputs": [
    {
     "data": {
      "text/html": [
       "<div>\n",
       "<table border=\"1\" class=\"dataframe\">\n",
       "  <thead>\n",
       "    <tr style=\"text-align: right;\">\n",
       "      <th></th>\n",
       "      <th>ID</th>\n",
       "      <th>TARGET</th>\n",
       "    </tr>\n",
       "  </thead>\n",
       "  <tbody>\n",
       "    <tr>\n",
       "      <th>0</th>\n",
       "      <td>0</td>\n",
       "      <td>0</td>\n",
       "    </tr>\n",
       "    <tr>\n",
       "      <th>1</th>\n",
       "      <td>1</td>\n",
       "      <td>0</td>\n",
       "    </tr>\n",
       "    <tr>\n",
       "      <th>2</th>\n",
       "      <td>2</td>\n",
       "      <td>0</td>\n",
       "    </tr>\n",
       "    <tr>\n",
       "      <th>3</th>\n",
       "      <td>3</td>\n",
       "      <td>1</td>\n",
       "    </tr>\n",
       "    <tr>\n",
       "      <th>4</th>\n",
       "      <td>4</td>\n",
       "      <td>0</td>\n",
       "    </tr>\n",
       "  </tbody>\n",
       "</table>\n",
       "</div>"
      ],
      "text/plain": [
       "   ID  TARGET\n",
       "0   0       0\n",
       "1   1       0\n",
       "2   2       0\n",
       "3   3       1\n",
       "4   4       0"
      ]
     },
     "execution_count": 4,
     "metadata": {},
     "output_type": "execute_result"
    }
   ],
   "source": [
    "y_train.head()"
   ]
  },
  {
   "cell_type": "code",
   "execution_count": 5,
   "metadata": {
    "collapsed": false
   },
   "outputs": [
    {
     "data": {
      "text/html": [
       "<div>\n",
       "<table border=\"1\" class=\"dataframe\">\n",
       "  <thead>\n",
       "    <tr style=\"text-align: right;\">\n",
       "      <th></th>\n",
       "      <th>C2</th>\n",
       "      <th>C3</th>\n",
       "      <th>C4</th>\n",
       "      <th>C5</th>\n",
       "      <th>C6</th>\n",
       "      <th>C7</th>\n",
       "      <th>C8</th>\n",
       "      <th>C9</th>\n",
       "      <th>C10</th>\n",
       "      <th>C11</th>\n",
       "      <th>...</th>\n",
       "      <th>Q63</th>\n",
       "      <th>Q64</th>\n",
       "      <th>Q65</th>\n",
       "      <th>Q66</th>\n",
       "      <th>Q67</th>\n",
       "      <th>Q68</th>\n",
       "      <th>Q69</th>\n",
       "      <th>Q70</th>\n",
       "      <th>Q71</th>\n",
       "      <th>Q72</th>\n",
       "    </tr>\n",
       "  </thead>\n",
       "  <tbody>\n",
       "    <tr>\n",
       "      <th>0</th>\n",
       "      <td>2</td>\n",
       "      <td>2</td>\n",
       "      <td>1</td>\n",
       "      <td>0</td>\n",
       "      <td>0</td>\n",
       "      <td>0</td>\n",
       "      <td>1</td>\n",
       "      <td>1</td>\n",
       "      <td>128</td>\n",
       "      <td>2295</td>\n",
       "      <td>...</td>\n",
       "      <td>0</td>\n",
       "      <td>0</td>\n",
       "      <td>0</td>\n",
       "      <td>0</td>\n",
       "      <td>1</td>\n",
       "      <td>1</td>\n",
       "      <td>0</td>\n",
       "      <td>1</td>\n",
       "      <td>0</td>\n",
       "      <td>0</td>\n",
       "    </tr>\n",
       "    <tr>\n",
       "      <th>1</th>\n",
       "      <td>2</td>\n",
       "      <td>2</td>\n",
       "      <td>2</td>\n",
       "      <td>0</td>\n",
       "      <td>1</td>\n",
       "      <td>0</td>\n",
       "      <td>1</td>\n",
       "      <td>1</td>\n",
       "      <td>20</td>\n",
       "      <td>2275</td>\n",
       "      <td>...</td>\n",
       "      <td>0</td>\n",
       "      <td>0</td>\n",
       "      <td>0</td>\n",
       "      <td>1</td>\n",
       "      <td>0</td>\n",
       "      <td>1</td>\n",
       "      <td>0</td>\n",
       "      <td>0</td>\n",
       "      <td>1</td>\n",
       "      <td>0</td>\n",
       "    </tr>\n",
       "    <tr>\n",
       "      <th>2</th>\n",
       "      <td>2</td>\n",
       "      <td>2</td>\n",
       "      <td>2</td>\n",
       "      <td>0</td>\n",
       "      <td>0</td>\n",
       "      <td>0</td>\n",
       "      <td>1</td>\n",
       "      <td>1</td>\n",
       "      <td>4</td>\n",
       "      <td>2320</td>\n",
       "      <td>...</td>\n",
       "      <td>0</td>\n",
       "      <td>0</td>\n",
       "      <td>1</td>\n",
       "      <td>0</td>\n",
       "      <td>0</td>\n",
       "      <td>0</td>\n",
       "      <td>1</td>\n",
       "      <td>0</td>\n",
       "      <td>0</td>\n",
       "      <td>0</td>\n",
       "    </tr>\n",
       "    <tr>\n",
       "      <th>3</th>\n",
       "      <td>2</td>\n",
       "      <td>2</td>\n",
       "      <td>2</td>\n",
       "      <td>1</td>\n",
       "      <td>0</td>\n",
       "      <td>0</td>\n",
       "      <td>1</td>\n",
       "      <td>1</td>\n",
       "      <td>6</td>\n",
       "      <td>2277</td>\n",
       "      <td>...</td>\n",
       "      <td>0</td>\n",
       "      <td>0</td>\n",
       "      <td>0</td>\n",
       "      <td>0</td>\n",
       "      <td>0</td>\n",
       "      <td>1</td>\n",
       "      <td>1</td>\n",
       "      <td>1</td>\n",
       "      <td>0</td>\n",
       "      <td>0</td>\n",
       "    </tr>\n",
       "    <tr>\n",
       "      <th>4</th>\n",
       "      <td>2</td>\n",
       "      <td>4</td>\n",
       "      <td>2</td>\n",
       "      <td>0</td>\n",
       "      <td>0</td>\n",
       "      <td>0</td>\n",
       "      <td>2</td>\n",
       "      <td>1</td>\n",
       "      <td>9</td>\n",
       "      <td>2245</td>\n",
       "      <td>...</td>\n",
       "      <td>0</td>\n",
       "      <td>0</td>\n",
       "      <td>0</td>\n",
       "      <td>0</td>\n",
       "      <td>1</td>\n",
       "      <td>1</td>\n",
       "      <td>0</td>\n",
       "      <td>1</td>\n",
       "      <td>0</td>\n",
       "      <td>0</td>\n",
       "    </tr>\n",
       "  </tbody>\n",
       "</table>\n",
       "<p>5 rows × 85 columns</p>\n",
       "</div>"
      ],
      "text/plain": [
       "   C2  C3  C4  C5  C6  C7  C8  C9  C10   C11 ...   Q63  Q64  Q65  Q66  Q67  \\\n",
       "0   2   2   1   0   0   0   1   1  128  2295 ...     0    0    0    0    1   \n",
       "1   2   2   2   0   1   0   1   1   20  2275 ...     0    0    0    1    0   \n",
       "2   2   2   2   0   0   0   1   1    4  2320 ...     0    0    1    0    0   \n",
       "3   2   2   2   1   0   0   1   1    6  2277 ...     0    0    0    0    0   \n",
       "4   2   4   2   0   0   0   2   1    9  2245 ...     0    0    0    0    1   \n",
       "\n",
       "   Q68  Q69  Q70  Q71  Q72  \n",
       "0    1    0    1    0    0  \n",
       "1    1    0    0    1    0  \n",
       "2    0    1    0    0    0  \n",
       "3    1    1    1    0    0  \n",
       "4    1    0    1    0    0  \n",
       "\n",
       "[5 rows x 85 columns]"
      ]
     },
     "execution_count": 5,
     "metadata": {},
     "output_type": "execute_result"
    }
   ],
   "source": [
    "x_test.head()"
   ]
  },
  {
   "cell_type": "markdown",
   "metadata": {},
   "source": [
    "<b>sélection des variables et transformation de l'échantillon d'entrainement  <b>"
   ]
  },
  {
   "cell_type": "code",
   "execution_count": 6,
   "metadata": {
    "collapsed": false
   },
   "outputs": [],
   "source": [
    "\n",
    "#sélection des meilleures variables la classifiaction :\n",
    "from sklearn.feature_selection import SelectKBest, f_classif\n",
    "# objet sklearn pour faire cette reduction de dim\n",
    "Selec = SelectKBest(f_classif, k=50)\n",
    "#x_train=x_train.values\n",
    "\n",
    "\n",
    "#y_train\n",
    "#selection = Selec.fit_transform(x_train,y_train)\n",
    "\n",
    "\n",
    "\n",
    "\n"
   ]
  },
  {
   "cell_type": "code",
   "execution_count": 7,
   "metadata": {
    "collapsed": false
   },
   "outputs": [
    {
     "data": {
      "text/plain": [
       "(85529,)"
      ]
     },
     "execution_count": 7,
     "metadata": {},
     "output_type": "execute_result"
    }
   ],
   "source": [
    "y_train=y_train.values[:,1]\n",
    "shape(y_train)"
   ]
  },
  {
   "cell_type": "code",
   "execution_count": 8,
   "metadata": {
    "collapsed": true
   },
   "outputs": [],
   "source": [
    "x_train=x_train.values\n"
   ]
  },
  {
   "cell_type": "code",
   "execution_count": 9,
   "metadata": {
    "collapsed": false
   },
   "outputs": [
    {
     "data": {
      "text/plain": [
       "array([[ 3.,  2.,  0., ...,  1.,  0.,  0.],\n",
       "       [ 3.,  1.,  0., ...,  1.,  0.,  0.],\n",
       "       [ 2.,  1.,  0., ...,  1.,  0.,  0.],\n",
       "       ..., \n",
       "       [ 2.,  1.,  1., ...,  1.,  0.,  0.],\n",
       "       [ 3.,  2.,  0., ...,  1.,  0.,  0.],\n",
       "       [ 2.,  2.,  1., ...,  1.,  0.,  0.]])"
      ]
     },
     "execution_count": 9,
     "metadata": {},
     "output_type": "execute_result"
    }
   ],
   "source": [
    "selection = Selec.fit_transform(x_train,y_train)\n",
    "selection"
   ]
  },
  {
   "cell_type": "markdown",
   "metadata": {},
   "source": [
    "<b>stratification de l'echantillon: \n",
    "En effet un test nous a montré qu'on a vait autant de 1 que 0 à predire alors que l'échantillon d'apprentissage n'a pas du tout cette Stratification d'ou par une méthode de tirage aléatoire nous allons constituer une échantillon stratifié<b>"
   ]
  },
  {
   "cell_type": "code",
   "execution_count": 10,
   "metadata": {
    "collapsed": false
   },
   "outputs": [
    {
     "data": {
      "text/plain": [
       "16558"
      ]
     },
     "execution_count": 10,
     "metadata": {},
     "output_type": "execute_result"
    }
   ],
   "source": [
    "\n",
    "#identification des lignes avecdes 0 et des 1\n",
    "ind0=[0]*85530\n",
    "for i in range(85529):\n",
    "    ind0[i]=i*(y_train[i]==0)\n",
    "\n",
    "ind0\n",
    "v1=[0]\n",
    "v2=[3]\n",
    "for i in range(85529):\n",
    "    if ind0[i]>0:\n",
    "        v1.append(ind0[i])\n",
    "    elif (ind0[i]==0)&(i>3):\n",
    "        v2.append(i)\n",
    "        \n",
    "ind0=v1\n",
    "ind1=v2\n",
    "len(ind1)\n",
    "\n",
    "from random import uniform\n",
    "v=[0]*len(ind1)\n",
    "for i in range(len(ind1)):\n",
    "    u=uniform(0,1)\n",
    "    v[i]=(u<0.5)*ind0[i]+(u>=0.5)*ind1[i]\n",
    "\n",
    "tir=v\n",
    "len(tir)\n"
   ]
  },
  {
   "cell_type": "markdown",
   "metadata": {},
   "source": [
    "<b>prediction par plus proche voisins sur l'echantillon stratifié avec les variables sélectionnées :<b>"
   ]
  },
  {
   "cell_type": "code",
   "execution_count": 11,
   "metadata": {
    "collapsed": false
   },
   "outputs": [
    {
     "name": "stdout",
     "output_type": "stream",
     "text": [
      "0.555277638819\n"
     ]
    }
   ],
   "source": [
    "\n",
    "\n",
    "from sklearn import neighbors\n",
    "mod = neighbors.KNeighborsClassifier(n_neighbors = 10, weights=\"uniform\")\n",
    "mod.fit(selection[tir[1:10000]], y_train[tir[1:10000]])\n",
    "#cross validation  avec un bloc plus petit  :\n",
    "#print(\"Taux de bien classés sur le 2ème bloc :\") \n",
    "print(mod.score(selection[tir[10001:12000]], y_train[tir[10001:12000]]))\n",
    "\n"
   ]
  },
  {
   "cell_type": "code",
   "execution_count": 12,
   "metadata": {
    "collapsed": false
   },
   "outputs": [
    {
     "data": {
      "text/plain": [
       "(85529, 85)"
      ]
     },
     "execution_count": 12,
     "metadata": {},
     "output_type": "execute_result"
    }
   ],
   "source": [
    "\n",
    "\n",
    "x_test=x_test.values\n",
    "selection_pred = Selec.transform(x_test)\n",
    "#selection_pred\n",
    "shape(x_test)\n",
    "shape(x_train)"
   ]
  },
  {
   "cell_type": "code",
   "execution_count": 13,
   "metadata": {
    "collapsed": false
   },
   "outputs": [
    {
     "data": {
      "text/plain": [
       "8136"
      ]
     },
     "execution_count": 13,
     "metadata": {},
     "output_type": "execute_result"
    }
   ],
   "source": [
    "pred = mod.predict(selection_pred)\n",
    "pred\n",
    "sum(pred)#pour vérifier que la proportion de 1 prédit est bien en accord "
   ]
  },
  {
   "cell_type": "markdown",
   "metadata": {},
   "source": [
    "<b>même avec une stratification les k plus proches voisins ont des resultats relativements mauvais <b>"
   ]
  },
  {
   "cell_type": "markdown",
   "metadata": {},
   "source": [
    "<b>Prédiction par Support vecteur machine :<b>"
   ]
  },
  {
   "cell_type": "code",
   "execution_count": 14,
   "metadata": {
    "collapsed": false
   },
   "outputs": [],
   "source": [
    "#test du svm posons le modèle:\n",
    "\n",
    "\n",
    "#from sklearn import svm\n",
    "#mod_svm = svm.SVC(kernel='rbf')\n",
    "\n",
    "#mod_svm.fit(selection[tir[1:12000],:], y_train[tir[1:12000]])\n",
    "#pred_svm = mod_svm.predict(x_train[tir[1:12000],:])\n",
    "#print(\"Taux de bien classés sur les données d'apprentissage :\") \n",
    "#print(mod_svm.score(selection[tir[12001:14000],:], y_train[tir[12001:14000]]))"
   ]
  },
  {
   "cell_type": "code",
   "execution_count": 15,
   "metadata": {
    "collapsed": false
   },
   "outputs": [],
   "source": [
    "#pred_test1=mod_svm.predict(x_test)\n",
    "#sum(pred_test1)"
   ]
  },
  {
   "cell_type": "markdown",
   "metadata": {},
   "source": [
    " <b>création du modèle de Random forest  avec les variables sélectionnées et l'echantillon stratifié   <b>"
   ]
  },
  {
   "cell_type": "code",
   "execution_count": 16,
   "metadata": {
    "collapsed": false
   },
   "outputs": [
    {
     "name": "stdout",
     "output_type": "stream",
     "text": [
      "Taux de bien classés sur les données de validation :\n",
      "0.632201449828\n"
     ]
    }
   ],
   "source": [
    "\n",
    "#création du modèle avec les variables sélectionnées et l'echantillon stratifié  :\n",
    "\n",
    "from sklearn.ensemble import RandomForestClassifier\n",
    "mod3= RandomForestClassifier(n_estimators=200,max_features=50,max_depth =101,criterion=\"entropy\")\n",
    "mod3.fit(selection[tir[0:9000],:], y_train[tir[0:9000]])\n",
    "\n",
    "#mini-cross validation avec deux blocs plus petits :\n",
    "print(\"Taux de bien classés sur les données de validation :\") \n",
    "\n",
    "print(mod3.score(selection[tir[9001:11622],:], y_train[tir[9001:11622]]))\n",
    "\n",
    "#print(mod3.score(selection[tir[12001:13622],:], y_train[tir[12001:13622]]))"
   ]
  },
  {
   "cell_type": "markdown",
   "metadata": {},
   "source": [
    "<b>creation de fichiers de soumission <b>"
   ]
  },
  {
   "cell_type": "code",
   "execution_count": null,
   "metadata": {
    "collapsed": true
   },
   "outputs": [],
   "source": [
    "\n",
    "#pred_test2=mod3.predict(x_test)\n",
    "#tab=pd.DataFrame(pred_test2,columns=[\"TARGETS\"])\n",
    "#tab.to_csv('pyt.csv', header=True)\n",
    "#sum(pred_test2)\n"
   ]
  },
  {
   "cell_type": "markdown",
   "metadata": {},
   "source": [
    " <b>sélection de variables sur la random forest (les variables les plus importantes ) <b>:"
   ]
  },
  {
   "cell_type": "code",
   "execution_count": 17,
   "metadata": {
    "collapsed": false
   },
   "outputs": [
    {
     "data": {
      "text/plain": [
       "28"
      ]
     },
     "execution_count": 17,
     "metadata": {},
     "output_type": "execute_result"
    }
   ],
   "source": [
    "imp=mod3.feature_importances_\n",
    "imp\n",
    "p=[]\n",
    "type(p)\n",
    "for i in range(50):\n",
    "    if imp[i]>0.01:\n",
    "         p.append(i)\n",
    "p\n",
    "len(p)"
   ]
  },
  {
   "cell_type": "code",
   "execution_count": 18,
   "metadata": {
    "collapsed": false
   },
   "outputs": [
    {
     "data": {
      "text/plain": [
       "array([ 0.02189237,  0.02972597,  0.00743659,  0.00546916,  0.00339793,\n",
       "        0.03824114,  0.00742909,  0.01321412,  0.00446775,  0.01664508,\n",
       "        0.03804677,  0.06726047,  0.03953223,  0.01918829,  0.04914848,\n",
       "        0.07103345,  0.04194409,  0.02361171,  0.0369302 ,  0.00432895,\n",
       "        0.00471556,  0.03784901,  0.02308155,  0.00863815,  0.02034182,\n",
       "        0.05537269,  0.02096606,  0.02024129,  0.01721728,  0.02184637,\n",
       "        0.0360041 ,  0.02448374,  0.00543101,  0.02632949,  0.01375632,\n",
       "        0.00582265,  0.01329363,  0.00801115,  0.00992273,  0.02167457,\n",
       "        0.00680131,  0.00459916,  0.0085813 ,  0.00773257,  0.00860612,\n",
       "        0.00190454,  0.00696299,  0.00850578,  0.00512067,  0.00724254])"
      ]
     },
     "execution_count": 18,
     "metadata": {},
     "output_type": "execute_result"
    }
   ],
   "source": [
    "imp"
   ]
  },
  {
   "cell_type": "markdown",
   "metadata": {},
   "source": [
    " <b>   entrainnement sur l'échantillon constitué de variables les plus importantes dans la random_forest:  <b>"
   ]
  },
  {
   "cell_type": "code",
   "execution_count": 19,
   "metadata": {
    "collapsed": false,
    "scrolled": true
   },
   "outputs": [
    {
     "name": "stdout",
     "output_type": "stream",
     "text": [
      "Taux de bien classés sur les données de validation :\n",
      "0.619610835559\n"
     ]
    }
   ],
   "source": [
    "\n",
    "from sklearn.ensemble import RandomForestClassifier\n",
    "x_train_new=selection[:,p]\n",
    "mod4= RandomForestClassifier(n_estimators=200,max_features=len(p),max_depth =101,criterion=\"entropy\")\n",
    "mod4.fit(x_train_new[tir[0:9000],:], y_train[tir[0:9000]])\n",
    "\n",
    "#cross-validation sur un bloc plus petit :\n",
    "print(\"Taux de bien classés sur les données de validation :\") \n",
    "\n",
    "print(mod4.score(x_train_new[tir[9001:11622],], y_train[tir[9001:11622]]))"
   ]
  },
  {
   "cell_type": "markdown",
   "metadata": {},
   "source": [
    " <b>Création du fichier de soumission  <b>:"
   ]
  },
  {
   "cell_type": "code",
   "execution_count": 20,
   "metadata": {
    "collapsed": false
   },
   "outputs": [
    {
     "data": {
      "text/plain": [
       "21224"
      ]
     },
     "execution_count": 20,
     "metadata": {},
     "output_type": "execute_result"
    }
   ],
   "source": [
    "pred_test3=mod4.predict(x_test[:,p])\n",
    "sum(pred_test3)\n",
    "tab=pd.DataFrame(pred_test3,columns=[\"TARGETS\"])\n",
    "tab.to_csv('pyt.csv', header=True)\n",
    "sum(pred_test3)\n"
   ]
  },
  {
   "cell_type": "markdown",
   "metadata": {},
   "source": [
    "<b>  mise en oeuvre du Gradient Boosting pour booster la performance des arbres succéssifs  :<b> "
   ]
  },
  {
   "cell_type": "code",
   "execution_count": 21,
   "metadata": {
    "collapsed": false
   },
   "outputs": [
    {
     "name": "stdout",
     "output_type": "stream",
     "text": [
      "      Iter       Train Loss   Remaining Time \n",
      "         1           1.1963            1.76m\n",
      "         2           1.0406            1.72m\n",
      "         3           0.9109            1.70m\n",
      "         4           0.8012            1.68m\n",
      "         5           0.7075            1.66m\n",
      "         6           0.6268            1.64m\n",
      "         7           0.5568            1.62m\n",
      "         8           0.4957            1.60m\n",
      "         9           0.4422            1.58m\n",
      "        10           0.3951            1.56m\n",
      "        20           0.1355            1.38m\n",
      "        30           0.0487            1.23m\n",
      "        40           0.0178            1.06m\n",
      "        50           0.0065           52.51s\n",
      "        60           0.0024           41.75s\n",
      "        70           0.0009           30.89s\n",
      "        80           0.0006           19.02s\n",
      "        90           0.0006            8.49s\n",
      "       100           0.0006            0.00s\n",
      "Taux de bien classés sur les données d'apprentissage :\n",
      "0.568522840947\n"
     ]
    }
   ],
   "source": [
    "\n",
    "from sklearn.ensemble import GradientBoostingClassifier\n",
    "mod5= GradientBoostingClassifier(n_estimators=100,max_features=50,max_depth =61,verbose=True)\n",
    "mod5.fit(selection[tir[0:9000],:], y_train[tir[0:9000]])\n",
    "#mod5_appr = mod5.predict(x_train[tir[0:8000],:])\n",
    "print(\"Taux de bien classés sur les données d'apprentissage :\") \n",
    "#calcul du score sur deux echantillons de test (cross validation de la methode) avec \n",
    "#la même strat\n",
    "\n",
    "#Cross-validation des paramètres (non automatisée car de multiple test de paramètres non fortuits ont étés éffectués )\n",
    "print(mod5.score(selection[tir[9001:12000],:], y_train[tir[9001:12000]]))\n",
    "\n"
   ]
  },
  {
   "cell_type": "code",
   "execution_count": 22,
   "metadata": {
    "collapsed": false
   },
   "outputs": [
    {
     "name": "stdout",
     "output_type": "stream",
     "text": [
      "0.579\n"
     ]
    }
   ],
   "source": [
    "#validation sur un deuxième echantillon de même taille que le premier:\n",
    "\n",
    "\n",
    "print(mod5.score(selection[tir[12000:14000],:], y_train[tir[12000:14000]]))"
   ]
  },
  {
   "cell_type": "markdown",
   "metadata": {},
   "source": [
    " <b>création d'un fichier de soumission <b>"
   ]
  },
  {
   "cell_type": "code",
   "execution_count": 23,
   "metadata": {
    "collapsed": false
   },
   "outputs": [],
   "source": [
    "\n",
    "#pred_test2=mod5.predict(x_test)\n",
    "#sum(pred_test2)\n",
    "#tab=pd.DataFrame(pred_test2,columns=[\"TARGETS\"])\n",
    "#tab.to_csv('pyt.csv', header=True)\n",
    "#sum(pred_test2)\n",
    "\n",
    "\n",
    "\n"
   ]
  }
 ],
 "metadata": {
  "anaconda-cloud": {},
  "kernelspec": {
   "display_name": "Python [conda root]",
   "language": "python",
   "name": "conda-root-py"
  },
  "language_info": {
   "codemirror_mode": {
    "name": "ipython",
    "version": 3
   },
   "file_extension": ".py",
   "mimetype": "text/x-python",
   "name": "python",
   "nbconvert_exporter": "python",
   "pygments_lexer": "ipython3",
   "version": "3.5.2"
  }
 },
 "nbformat": 4,
 "nbformat_minor": 1
}
